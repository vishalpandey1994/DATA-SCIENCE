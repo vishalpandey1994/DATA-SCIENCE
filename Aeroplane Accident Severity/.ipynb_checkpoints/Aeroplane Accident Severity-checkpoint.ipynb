{
 "cells": [
  {
   "cell_type": "markdown",
   "metadata": {},
   "source": [
    "# Algorithm for converting severity into Grade"
   ]
  },
  {
   "cell_type": "code",
   "execution_count": 1,
   "metadata": {},
   "outputs": [],
   "source": [
    "    def severe(text):\n",
    "        if text==\"Highly_Fatal_And_Damaging\":\n",
    "            return 1\n",
    "        elif text==\"Minor_Damage_And_Injuries\":\n",
    "            return 2\n",
    "        elif text==\"Significant_Damage_And_Serious_Injuries\":\n",
    "            return 3\n",
    "        elif text==\"Significant_Damage_And_Fatalities\":\n",
    "            return 4\n",
    "    def rev_severe(data):\n",
    "        if data==1:\n",
    "            return \"Highly_Fatal_And_Damaging\"\n",
    "        elif data==2:\n",
    "            return \"Minor_Damage_And_Injuries\"\n",
    "        elif data==3:\n",
    "            return \"Significant_Damage_And_Serious_Injuries\"\n",
    "        elif data==4:\n",
    "            return \"Significant_Damage_And_Fatalities\""
   ]
  },
  {
   "cell_type": "markdown",
   "metadata": {},
   "source": [
    "# Importing the Libraries"
   ]
  },
  {
   "cell_type": "code",
   "execution_count": 2,
   "metadata": {},
   "outputs": [],
   "source": [
    "import numpy as np\n",
    "import pandas as pd\n",
    "import matplotlib.pyplot as plt\n",
    "import seaborn as sns"
   ]
  },
  {
   "cell_type": "markdown",
   "metadata": {},
   "source": [
    "# Importing Datasets"
   ]
  },
  {
   "cell_type": "code",
   "execution_count": 3,
   "metadata": {},
   "outputs": [],
   "source": [
    "train=pd.read_csv(\"train.csv\")\n",
    "test=pd.read_csv(\"test.csv\")"
   ]
  },
  {
   "cell_type": "code",
   "execution_count": 4,
   "metadata": {},
   "outputs": [
    {
     "data": {
      "text/html": [
       "<div>\n",
       "<style scoped>\n",
       "    .dataframe tbody tr th:only-of-type {\n",
       "        vertical-align: middle;\n",
       "    }\n",
       "\n",
       "    .dataframe tbody tr th {\n",
       "        vertical-align: top;\n",
       "    }\n",
       "\n",
       "    .dataframe thead th {\n",
       "        text-align: right;\n",
       "    }\n",
       "</style>\n",
       "<table border=\"1\" class=\"dataframe\">\n",
       "  <thead>\n",
       "    <tr style=\"text-align: right;\">\n",
       "      <th></th>\n",
       "      <th>Safety_Score</th>\n",
       "      <th>Days_Since_Inspection</th>\n",
       "      <th>Total_Safety_Complaints</th>\n",
       "      <th>Control_Metric</th>\n",
       "      <th>Turbulence_In_gforces</th>\n",
       "      <th>Cabin_Temperature</th>\n",
       "      <th>Accident_Type_Code</th>\n",
       "      <th>Max_Elevation</th>\n",
       "      <th>Violations</th>\n",
       "      <th>Adverse_Weather_Metric</th>\n",
       "      <th>Accident_ID</th>\n",
       "    </tr>\n",
       "    <tr>\n",
       "      <th>Severity</th>\n",
       "      <th></th>\n",
       "      <th></th>\n",
       "      <th></th>\n",
       "      <th></th>\n",
       "      <th></th>\n",
       "      <th></th>\n",
       "      <th></th>\n",
       "      <th></th>\n",
       "      <th></th>\n",
       "      <th></th>\n",
       "      <th></th>\n",
       "    </tr>\n",
       "  </thead>\n",
       "  <tbody>\n",
       "    <tr>\n",
       "      <th>Highly_Fatal_And_Damaging</th>\n",
       "      <td>101695.159817</td>\n",
       "      <td>38919</td>\n",
       "      <td>19322</td>\n",
       "      <td>202884.731085</td>\n",
       "      <td>1120.299141</td>\n",
       "      <td>243991.73</td>\n",
       "      <td>10572</td>\n",
       "      <td>9.738550e+07</td>\n",
       "      <td>5986</td>\n",
       "      <td>921.733835</td>\n",
       "      <td>19232998</td>\n",
       "    </tr>\n",
       "    <tr>\n",
       "      <th>Minor_Damage_And_Injuries</th>\n",
       "      <td>120791.369863</td>\n",
       "      <td>33281</td>\n",
       "      <td>17254</td>\n",
       "      <td>162613.035552</td>\n",
       "      <td>976.066251</td>\n",
       "      <td>201917.31</td>\n",
       "      <td>8262</td>\n",
       "      <td>8.143401e+07</td>\n",
       "      <td>5008</td>\n",
       "      <td>785.932299</td>\n",
       "      <td>15901065</td>\n",
       "    </tr>\n",
       "    <tr>\n",
       "      <th>Significant_Damage_And_Fatalities</th>\n",
       "      <td>79838.082192</td>\n",
       "      <td>22156</td>\n",
       "      <td>10995</td>\n",
       "      <td>101800.501367</td>\n",
       "      <td>699.625853</td>\n",
       "      <td>135670.37</td>\n",
       "      <td>7629</td>\n",
       "      <td>5.305484e+07</td>\n",
       "      <td>3688</td>\n",
       "      <td>420.097552</td>\n",
       "      <td>10478316</td>\n",
       "    </tr>\n",
       "    <tr>\n",
       "      <th>Significant_Damage_And_Serious_Injuries</th>\n",
       "      <td>116439.452055</td>\n",
       "      <td>34955</td>\n",
       "      <td>18072</td>\n",
       "      <td>184154.968095</td>\n",
       "      <td>1018.958629</td>\n",
       "      <td>218113.90</td>\n",
       "      <td>11686</td>\n",
       "      <td>8.814368e+07</td>\n",
       "      <td>5440</td>\n",
       "      <td>428.584213</td>\n",
       "      <td>17053163</td>\n",
       "    </tr>\n",
       "  </tbody>\n",
       "</table>\n",
       "</div>"
      ],
      "text/plain": [
       "                                          Safety_Score  Days_Since_Inspection  \\\n",
       "Severity                                                                        \n",
       "Highly_Fatal_And_Damaging                101695.159817                  38919   \n",
       "Minor_Damage_And_Injuries                120791.369863                  33281   \n",
       "Significant_Damage_And_Fatalities         79838.082192                  22156   \n",
       "Significant_Damage_And_Serious_Injuries  116439.452055                  34955   \n",
       "\n",
       "                                         Total_Safety_Complaints  \\\n",
       "Severity                                                           \n",
       "Highly_Fatal_And_Damaging                                  19322   \n",
       "Minor_Damage_And_Injuries                                  17254   \n",
       "Significant_Damage_And_Fatalities                          10995   \n",
       "Significant_Damage_And_Serious_Injuries                    18072   \n",
       "\n",
       "                                         Control_Metric  \\\n",
       "Severity                                                  \n",
       "Highly_Fatal_And_Damaging                 202884.731085   \n",
       "Minor_Damage_And_Injuries                 162613.035552   \n",
       "Significant_Damage_And_Fatalities         101800.501367   \n",
       "Significant_Damage_And_Serious_Injuries   184154.968095   \n",
       "\n",
       "                                         Turbulence_In_gforces  \\\n",
       "Severity                                                         \n",
       "Highly_Fatal_And_Damaging                          1120.299141   \n",
       "Minor_Damage_And_Injuries                           976.066251   \n",
       "Significant_Damage_And_Fatalities                   699.625853   \n",
       "Significant_Damage_And_Serious_Injuries            1018.958629   \n",
       "\n",
       "                                         Cabin_Temperature  \\\n",
       "Severity                                                     \n",
       "Highly_Fatal_And_Damaging                        243991.73   \n",
       "Minor_Damage_And_Injuries                        201917.31   \n",
       "Significant_Damage_And_Fatalities                135670.37   \n",
       "Significant_Damage_And_Serious_Injuries          218113.90   \n",
       "\n",
       "                                         Accident_Type_Code  Max_Elevation  \\\n",
       "Severity                                                                     \n",
       "Highly_Fatal_And_Damaging                             10572   9.738550e+07   \n",
       "Minor_Damage_And_Injuries                              8262   8.143401e+07   \n",
       "Significant_Damage_And_Fatalities                      7629   5.305484e+07   \n",
       "Significant_Damage_And_Serious_Injuries               11686   8.814368e+07   \n",
       "\n",
       "                                         Violations  Adverse_Weather_Metric  \\\n",
       "Severity                                                                      \n",
       "Highly_Fatal_And_Damaging                      5986              921.733835   \n",
       "Minor_Damage_And_Injuries                      5008              785.932299   \n",
       "Significant_Damage_And_Fatalities              3688              420.097552   \n",
       "Significant_Damage_And_Serious_Injuries        5440              428.584213   \n",
       "\n",
       "                                         Accident_ID  \n",
       "Severity                                              \n",
       "Highly_Fatal_And_Damaging                   19232998  \n",
       "Minor_Damage_And_Injuries                   15901065  \n",
       "Significant_Damage_And_Fatalities           10478316  \n",
       "Significant_Damage_And_Serious_Injuries     17053163  "
      ]
     },
     "execution_count": 4,
     "metadata": {},
     "output_type": "execute_result"
    }
   ],
   "source": [
    "#checking the data according to the Severity\n",
    "train.groupby(\"Severity\").sum()"
   ]
  },
  {
   "cell_type": "markdown",
   "metadata": {},
   "source": [
    "# Converting Severity into grade from 1 to 4"
   ]
  },
  {
   "cell_type": "code",
   "execution_count": 5,
   "metadata": {},
   "outputs": [],
   "source": [
    "#Inserting Severity into the different array named \"Severity text\"\n",
    "Severity_text=train[\"Severity\"]\n",
    "Severityy_text=np.array(Severity_text)"
   ]
  },
  {
   "cell_type": "code",
   "execution_count": 6,
   "metadata": {},
   "outputs": [],
   "source": [
    "#Running the loop and storing the grades into the differnt list named as \"Severity Grade\"\n",
    "Severity_Grade=[]\n",
    "for i in range(len(Severityy_text)):\n",
    "    Severity_Grade.append(severe(Severityy_text[i]))\n",
    "        "
   ]
  },
  {
   "cell_type": "code",
   "execution_count": 7,
   "metadata": {},
   "outputs": [],
   "source": [
    "#Storing the Severity grade into the training dataset in a new column name Severity Grade.\n",
    "train[\"Severity_Grade\"]=Severity_Grade"
   ]
  },
  {
   "cell_type": "code",
   "execution_count": 8,
   "metadata": {},
   "outputs": [
    {
     "data": {
      "text/html": [
       "<div>\n",
       "<style scoped>\n",
       "    .dataframe tbody tr th:only-of-type {\n",
       "        vertical-align: middle;\n",
       "    }\n",
       "\n",
       "    .dataframe tbody tr th {\n",
       "        vertical-align: top;\n",
       "    }\n",
       "\n",
       "    .dataframe thead th {\n",
       "        text-align: right;\n",
       "    }\n",
       "</style>\n",
       "<table border=\"1\" class=\"dataframe\">\n",
       "  <thead>\n",
       "    <tr style=\"text-align: right;\">\n",
       "      <th></th>\n",
       "      <th>Severity</th>\n",
       "      <th>Safety_Score</th>\n",
       "      <th>Days_Since_Inspection</th>\n",
       "      <th>Total_Safety_Complaints</th>\n",
       "      <th>Control_Metric</th>\n",
       "      <th>Turbulence_In_gforces</th>\n",
       "      <th>Cabin_Temperature</th>\n",
       "      <th>Accident_Type_Code</th>\n",
       "      <th>Max_Elevation</th>\n",
       "      <th>Violations</th>\n",
       "      <th>Adverse_Weather_Metric</th>\n",
       "      <th>Accident_ID</th>\n",
       "      <th>Severity_Grade</th>\n",
       "    </tr>\n",
       "  </thead>\n",
       "  <tbody>\n",
       "    <tr>\n",
       "      <th>0</th>\n",
       "      <td>Minor_Damage_And_Injuries</td>\n",
       "      <td>49.223744</td>\n",
       "      <td>14</td>\n",
       "      <td>22</td>\n",
       "      <td>71.285324</td>\n",
       "      <td>0.272118</td>\n",
       "      <td>78.04</td>\n",
       "      <td>2</td>\n",
       "      <td>31335.476824</td>\n",
       "      <td>3</td>\n",
       "      <td>0.424352</td>\n",
       "      <td>7570</td>\n",
       "      <td>2</td>\n",
       "    </tr>\n",
       "    <tr>\n",
       "      <th>1</th>\n",
       "      <td>Minor_Damage_And_Injuries</td>\n",
       "      <td>62.465753</td>\n",
       "      <td>10</td>\n",
       "      <td>27</td>\n",
       "      <td>72.288058</td>\n",
       "      <td>0.423939</td>\n",
       "      <td>84.54</td>\n",
       "      <td>2</td>\n",
       "      <td>26024.711057</td>\n",
       "      <td>2</td>\n",
       "      <td>0.352350</td>\n",
       "      <td>12128</td>\n",
       "      <td>2</td>\n",
       "    </tr>\n",
       "    <tr>\n",
       "      <th>2</th>\n",
       "      <td>Significant_Damage_And_Fatalities</td>\n",
       "      <td>63.059361</td>\n",
       "      <td>13</td>\n",
       "      <td>16</td>\n",
       "      <td>66.362808</td>\n",
       "      <td>0.322604</td>\n",
       "      <td>78.86</td>\n",
       "      <td>7</td>\n",
       "      <td>39269.053927</td>\n",
       "      <td>3</td>\n",
       "      <td>0.003364</td>\n",
       "      <td>2181</td>\n",
       "      <td>4</td>\n",
       "    </tr>\n",
       "    <tr>\n",
       "      <th>3</th>\n",
       "      <td>Significant_Damage_And_Serious_Injuries</td>\n",
       "      <td>48.082192</td>\n",
       "      <td>11</td>\n",
       "      <td>9</td>\n",
       "      <td>74.703737</td>\n",
       "      <td>0.337029</td>\n",
       "      <td>81.79</td>\n",
       "      <td>3</td>\n",
       "      <td>42771.499200</td>\n",
       "      <td>1</td>\n",
       "      <td>0.211728</td>\n",
       "      <td>5946</td>\n",
       "      <td>3</td>\n",
       "    </tr>\n",
       "    <tr>\n",
       "      <th>4</th>\n",
       "      <td>Significant_Damage_And_Fatalities</td>\n",
       "      <td>26.484018</td>\n",
       "      <td>13</td>\n",
       "      <td>25</td>\n",
       "      <td>47.948952</td>\n",
       "      <td>0.541140</td>\n",
       "      <td>77.16</td>\n",
       "      <td>3</td>\n",
       "      <td>35509.228515</td>\n",
       "      <td>2</td>\n",
       "      <td>0.176883</td>\n",
       "      <td>9054</td>\n",
       "      <td>4</td>\n",
       "    </tr>\n",
       "  </tbody>\n",
       "</table>\n",
       "</div>"
      ],
      "text/plain": [
       "                                  Severity  Safety_Score  \\\n",
       "0                Minor_Damage_And_Injuries     49.223744   \n",
       "1                Minor_Damage_And_Injuries     62.465753   \n",
       "2        Significant_Damage_And_Fatalities     63.059361   \n",
       "3  Significant_Damage_And_Serious_Injuries     48.082192   \n",
       "4        Significant_Damage_And_Fatalities     26.484018   \n",
       "\n",
       "   Days_Since_Inspection  Total_Safety_Complaints  Control_Metric  \\\n",
       "0                     14                       22       71.285324   \n",
       "1                     10                       27       72.288058   \n",
       "2                     13                       16       66.362808   \n",
       "3                     11                        9       74.703737   \n",
       "4                     13                       25       47.948952   \n",
       "\n",
       "   Turbulence_In_gforces  Cabin_Temperature  Accident_Type_Code  \\\n",
       "0               0.272118              78.04                   2   \n",
       "1               0.423939              84.54                   2   \n",
       "2               0.322604              78.86                   7   \n",
       "3               0.337029              81.79                   3   \n",
       "4               0.541140              77.16                   3   \n",
       "\n",
       "   Max_Elevation  Violations  Adverse_Weather_Metric  Accident_ID  \\\n",
       "0   31335.476824           3                0.424352         7570   \n",
       "1   26024.711057           2                0.352350        12128   \n",
       "2   39269.053927           3                0.003364         2181   \n",
       "3   42771.499200           1                0.211728         5946   \n",
       "4   35509.228515           2                0.176883         9054   \n",
       "\n",
       "   Severity_Grade  \n",
       "0               2  \n",
       "1               2  \n",
       "2               4  \n",
       "3               3  \n",
       "4               4  "
      ]
     },
     "execution_count": 8,
     "metadata": {},
     "output_type": "execute_result"
    }
   ],
   "source": [
    "#checking the dataset.\n",
    "train.head()"
   ]
  },
  {
   "cell_type": "markdown",
   "metadata": {},
   "source": [
    "# Splitting the data into X and Y"
   ]
  },
  {
   "cell_type": "code",
   "execution_count": 9,
   "metadata": {},
   "outputs": [],
   "source": [
    "X=train\n",
    "X_test=test"
   ]
  },
  {
   "cell_type": "code",
   "execution_count": 10,
   "metadata": {},
   "outputs": [],
   "source": [
    "y=train[\"Severity_Grade\"]"
   ]
  },
  {
   "cell_type": "markdown",
   "metadata": {},
   "source": [
    "# Removing all the un-necessary coloumns."
   ]
  },
  {
   "cell_type": "code",
   "execution_count": 11,
   "metadata": {},
   "outputs": [],
   "source": [
    "#It seems that the some columns are not required in the training data as it \n",
    "#will not participate in prediction"
   ]
  },
  {
   "cell_type": "code",
   "execution_count": 12,
   "metadata": {},
   "outputs": [],
   "source": [
    "X=X.drop(labels=[\"Max_Elevation\",\"Severity\",\"Cabin_Temperature\",\"Accident_Type_Code\",\"Accident_ID\",\"Adverse_Weather_Metric\",\"Severity_Grade\",\"Turbulence_In_gforces\"],axis=1)\n",
    "X_test=X_test.drop(labels=[\"Max_Elevation\",\"Cabin_Temperature\",\"Accident_Type_Code\",\"Accident_ID\",\"Adverse_Weather_Metric\",\"Turbulence_In_gforces\"],axis=1)"
   ]
  },
  {
   "cell_type": "markdown",
   "metadata": {},
   "source": [
    "# Using Decision Tree Classifier\n"
   ]
  },
  {
   "cell_type": "code",
   "execution_count": 13,
   "metadata": {},
   "outputs": [],
   "source": [
    "from sklearn.tree import DecisionTreeClassifier"
   ]
  },
  {
   "cell_type": "code",
   "execution_count": 14,
   "metadata": {},
   "outputs": [],
   "source": [
    "DCS=DecisionTreeClassifier()"
   ]
  },
  {
   "cell_type": "code",
   "execution_count": 15,
   "metadata": {},
   "outputs": [],
   "source": [
    "#Applying Boosting Algorithm to boost the result\n",
    "from sklearn.ensemble import AdaBoostClassifier"
   ]
  },
  {
   "cell_type": "code",
   "execution_count": 16,
   "metadata": {},
   "outputs": [],
   "source": [
    "booster=AdaBoostClassifier(base_estimator=DCS, n_estimators=1000, learning_rate=1)"
   ]
  },
  {
   "cell_type": "code",
   "execution_count": 17,
   "metadata": {
    "scrolled": true
   },
   "outputs": [
    {
     "data": {
      "text/plain": [
       "AdaBoostClassifier(algorithm='SAMME.R',\n",
       "                   base_estimator=DecisionTreeClassifier(class_weight=None,\n",
       "                                                         criterion='gini',\n",
       "                                                         max_depth=None,\n",
       "                                                         max_features=None,\n",
       "                                                         max_leaf_nodes=None,\n",
       "                                                         min_impurity_decrease=0.0,\n",
       "                                                         min_impurity_split=None,\n",
       "                                                         min_samples_leaf=1,\n",
       "                                                         min_samples_split=2,\n",
       "                                                         min_weight_fraction_leaf=0.0,\n",
       "                                                         presort=False,\n",
       "                                                         random_state=None,\n",
       "                                                         splitter='best'),\n",
       "                   learning_rate=1, n_estimators=1000, random_state=None)"
      ]
     },
     "execution_count": 17,
     "metadata": {},
     "output_type": "execute_result"
    }
   ],
   "source": [
    "booster.fit(X,y)"
   ]
  },
  {
   "cell_type": "code",
   "execution_count": 18,
   "metadata": {},
   "outputs": [],
   "source": [
    "yperdicttt=booster.predict(X_test)"
   ]
  },
  {
   "cell_type": "code",
   "execution_count": 19,
   "metadata": {},
   "outputs": [
    {
     "data": {
      "text/plain": [
       "array([1, 4, 3, ..., 3, 3, 1], dtype=int64)"
      ]
     },
     "execution_count": 19,
     "metadata": {},
     "output_type": "execute_result"
    }
   ],
   "source": [
    "yperdicttt"
   ]
  },
  {
   "cell_type": "markdown",
   "metadata": {},
   "source": [
    "# Reversing the Severity to text."
   ]
  },
  {
   "cell_type": "code",
   "execution_count": 20,
   "metadata": {},
   "outputs": [],
   "source": [
    "boosterpredict=[]\n",
    "for i in range(len(yperdicttt)):\n",
    "    boosterpredict.append(rev_severe(yperdicttt[i]))"
   ]
  },
  {
   "cell_type": "code",
   "execution_count": 21,
   "metadata": {},
   "outputs": [],
   "source": [
    "boosterrandom=pd.DataFrame(boosterpredict)"
   ]
  },
  {
   "cell_type": "code",
   "execution_count": 22,
   "metadata": {},
   "outputs": [],
   "source": [
    "boosterrandom[\"Accident_ID\"]=test[\"Accident_ID\"]"
   ]
  },
  {
   "cell_type": "markdown",
   "metadata": {},
   "source": [
    "# Creating the \".csv\" file."
   ]
  },
  {
   "cell_type": "code",
   "execution_count": 23,
   "metadata": {},
   "outputs": [],
   "source": [
    "#boosterrandom.to_csv(\"Boost914.csv\")"
   ]
  }
 ],
 "metadata": {
  "kernelspec": {
   "display_name": "Python 3",
   "language": "python",
   "name": "python3"
  },
  "language_info": {
   "codemirror_mode": {
    "name": "ipython",
    "version": 3
   },
   "file_extension": ".py",
   "mimetype": "text/x-python",
   "name": "python",
   "nbconvert_exporter": "python",
   "pygments_lexer": "ipython3",
   "version": "3.7.3"
  }
 },
 "nbformat": 4,
 "nbformat_minor": 2
}
